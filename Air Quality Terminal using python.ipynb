{
 "cells": [
  {
   "cell_type": "code",
   "execution_count": null,
   "id": "eb940893",
   "metadata": {},
   "outputs": [],
   "source": [
    "pip install bs4"
   ]
  },
  {
   "cell_type": "code",
   "execution_count": null,
   "id": "212a99ed",
   "metadata": {},
   "outputs": [],
   "source": [
    " pip install requests "
   ]
  },
  {
   "cell_type": "code",
   "execution_count": null,
   "id": "8252386f",
   "metadata": {},
   "outputs": [],
   "source": [
    "# import module\n",
    "import requests\n",
    "from bs4 import BeautifulSoup"
   ]
  },
  {
   "cell_type": "code",
   "execution_count": null,
   "id": "7c754871",
   "metadata": {},
   "outputs": [],
   "source": [
    "# link to extract html data\n",
    "\t\n",
    "def getdata(url):\n",
    "\tr=requests.get(url)\n",
    "\treturn r.text\n"
   ]
  },
  {
   "cell_type": "code",
   "execution_count": null,
   "id": "d6f733af",
   "metadata": {},
   "outputs": [],
   "source": [
    "htmldata = getdata(\"https://weather.com/en-IN/forecast/air-quality/l/3dbed5c769584b3604a70d40a1a0a9f6ebc99c253d955b548f4978ca101eeca1\")\n",
    "soup = BeautifulSoup(htmldata, 'html.parser')\n",
    "result = soup.find_all(class_=\"DonutChart--innerValue--2rO41 AirQuality--pollutantDialText--3Y7DJ\")\n",
    "result"
   ]
  },
  {
   "cell_type": "code",
   "execution_count": null,
   "id": "94d8864f",
   "metadata": {},
   "outputs": [],
   "source": [
    "# Traverse the air quality\n",
    "res_quality = soup.find(class_=\"DonutChart--innerValue--2rO41 AirQuality--extendedDialText--2AsJa\").text\n",
    "# traverse the content\n",
    "air_data = soup.find_all(class_=\"DonutChart--innerValue--2rO41 AirQuality--pollutantDialText--3Y7DJ\")\n",
    "air_data=[data.text for data in air_data]\n",
    "print(\"Air Quality :\", res_quality)\n",
    "print(\"O3 level :\", air_data[0])\n",
    "print(\"NO2 level :\", air_data[1])\n",
    "print(\"SO2 level :\", air_data[2])\n",
    "print(\"PM2.5 level :\", air_data[3])\n",
    "print(\"PM10 level :\", air_data[4])\n",
    "print(\"co level :\", air_data[5])"
   ]
  },
  {
   "cell_type": "code",
   "execution_count": null,
   "id": "55c6dd81",
   "metadata": {},
   "outputs": [],
   "source": [
    "res = int(res_quality)\n",
    "\n",
    "if res <= 50:\n",
    "\tremark = \"Good\"\n",
    "\timpact = \"Minimal impact\"\n",
    "\n",
    "elif res <= 100 and res > 51:\n",
    "\tremark = \"Satisfactory\"\n",
    "\timpact = \"Minor breathing discomfort to sensitive people\"\n",
    "\n",
    "elif res <= 200 and res >= 101:\n",
    "\tremark = \"Moderate\"\n",
    "\timpact = \"Breathing discomfort to the people with lungs, asthma and heart diseases\"\n",
    "\n",
    "elif res <= 400 and res >= 201:\n",
    "\tremark = \"Very Poor\"\n",
    "\timpact = \"Breathing discomfort to most people on prolonged exposure\"\n",
    "\n",
    "elif res <= 500 and res >= 401:\n",
    "\tremark = \"Severe\"\n",
    "\timpact = \"Affects healthy people and seriously impacts those with existing diseases\"\n",
    "\n",
    "print(remark)\n",
    "print(impact)\n"
   ]
  },
  {
   "cell_type": "code",
   "execution_count": null,
   "id": "e570ed65",
   "metadata": {},
   "outputs": [],
   "source": [
    "# object of tkinter\n",
    "# and background set to grey  \n",
    "master = Tk()\n",
    "master.configure(bg='light grey')"
   ]
  },
  {
   "cell_type": "code",
   "execution_count": null,
   "id": "25392acf",
   "metadata": {},
   "outputs": [],
   "source": [
    "# Variable Classes in tkinter\n",
    "air_data = StringVar()\n",
    "ar = StringVar()\n",
    "o3 = StringVar()\n",
    "no2 = StringVar()\n",
    "so2 = StringVar()\n",
    "pm = StringVar()\n",
    "pml = StringVar()\n",
    "co = StringVar()\n",
    "res_remark = StringVar()\n",
    "res_imp = StringVar()\n"
   ]
  },
  {
   "cell_type": "code",
   "execution_count": null,
   "id": "3f780e3d",
   "metadata": {},
   "outputs": [],
   "source": [
    "# Creating label for each information\n",
    "# name using widget Label\n",
    "Label(master, text=\"Air Quality : \",\n",
    "\tbg=\"light grey\").grid(row=0, sticky=W)\n",
    "Label(master, text=\"O3 (μg/m3) :\",\n",
    "\tbg=\"light grey\").grid(row=1, sticky=W)\n",
    "Label(master, text=\"NO2 (μg/m3) :\",\n",
    "\tbg=\"light grey\").grid(row=2, sticky=W)\n",
    "Label(master, text=\"SO2 (μg/m3) :\",\n",
    "\tbg=\"light grey\").grid(row=3, sticky=W)\n",
    "Label(master, text=\"PM2.5 (μg/m3) :\",\n",
    "\tbg=\"light grey\").grid(row=4, sticky=W)\n",
    "Label(master, text=\"PM10 (μg/m3) :\",\n",
    "\tbg=\"light grey\").grid(row=5, sticky=W)\n",
    "Label(master, text=\"CO (μg/m3) :\",\n",
    "\tbg=\"light grey\").grid(row=6, sticky=W)\n",
    "Label(master, text=\"Remark :\",\n",
    "\tbg=\"light grey\").grid(row=7, sticky=W)\n",
    "Label(master, text=\"Possible Health Impacts :\",\n",
    "\tbg=\"light grey\").grid(row=8, sticky=W)"
   ]
  },
  {
   "cell_type": "code",
   "execution_count": null,
   "id": "15490ef9",
   "metadata": {},
   "outputs": [],
   "source": [
    "# Creating label for class variable\n",
    "# name using widget Entry\n",
    "Label(master, text=\"\", textvariable=ar,\n",
    "\tbg=\"light grey\").grid(\n",
    "\trow=0, column=1, sticky=W)\n",
    "Label(master, text=\"\", textvariable=o3,\n",
    "\tbg=\"light grey\").grid(\n",
    "\trow=1, column=1, sticky=W)\n",
    "Label(master, text=\"\", textvariable=no2,\n",
    "\tbg=\"light grey\").grid(\n",
    "\trow=2, column=1, sticky=W)\n",
    "Label(master, text=\"\", textvariable=so2,\n",
    "\tbg=\"light grey\").grid(\n",
    "\trow=3, column=1, sticky=W)\n",
    "Label(master, text=\"\", textvariable=pm,\n",
    "\tbg=\"light grey\").grid(\n",
    "\trow=4, column=1, sticky=W)\n",
    "Label(master, text=\"\", textvariable=pml,\n",
    "\tbg=\"light grey\").grid(\n",
    "\trow=5, column=1, sticky=W)\n",
    "Label(master, text=\"\", textvariable=co,\n",
    "\tbg=\"light grey\").grid(\n",
    "\trow=6, column=1, sticky=W)\n",
    "Label(master, text=\"\", textvariable=res_remark,\n",
    "\tbg=\"light grey\").grid(row=7, column=1, sticky=W)\n",
    "Label(master, text=\"\", textvariable=res_imp,\n",
    "\tbg=\"light grey\").grid(row=8, column=1, sticky=W)"
   ]
  },
  {
   "cell_type": "code",
   "execution_count": null,
   "id": "635fff04",
   "metadata": {},
   "outputs": [],
   "source": [
    "# creating a button using the widget\n",
    "b = Button(master, text=\"Check\",\n",
    "\t\tcommand=airinfo, bg=\"Blue\")\n",
    "b.grid(row=0, column=2, columnspan=2,\n",
    "\trowspan=2, padx=5, pady=5,)\n",
    "\n",
    "mainloop()"
   ]
  },
  {
   "cell_type": "code",
   "execution_count": null,
   "id": "4a5cb40f",
   "metadata": {},
   "outputs": [],
   "source": []
  },
  {
   "cell_type": "code",
   "execution_count": null,
   "id": "fbe553e2",
   "metadata": {},
   "outputs": [],
   "source": []
  }
 ],
 "metadata": {
  "kernelspec": {
   "display_name": "Python 3 (ipykernel)",
   "language": "python",
   "name": "python3"
  },
  "language_info": {
   "codemirror_mode": {
    "name": "ipython",
    "version": 3
   },
   "file_extension": ".py",
   "mimetype": "text/x-python",
   "name": "python",
   "nbconvert_exporter": "python",
   "pygments_lexer": "ipython3",
   "version": "3.9.12"
  }
 },
 "nbformat": 4,
 "nbformat_minor": 5
}
